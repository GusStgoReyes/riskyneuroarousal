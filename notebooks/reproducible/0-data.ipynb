{
 "cells": [
  {
   "cell_type": "code",
   "execution_count": 1,
   "metadata": {},
   "outputs": [],
   "source": [
    "from riskyneuroarousal.utils.load_data import load_behavioral_data\n",
    "from riskyneuroarousal.config import Config\n",
    "import seaborn as sns\n",
    "import matplotlib.pyplot as plt"
   ]
  },
  {
   "cell_type": "markdown",
   "metadata": {},
   "source": [
    "Before you start, make sure to go to `config.json` in the beginning of this repository and include your userID and the paths to the necessary files (listed in the json)."
   ]
  },
  {
   "cell_type": "markdown",
   "metadata": {},
   "source": [
    "### Load the behavioral \n",
    "There are 108 participants that participated in a risky-decision task, namely a version of the gambling task. Each participant was shown a gamble with the possibility of winning some gain or losing some lose (50/50 chance).  They had to respond if they (1) strongly reject, (2) weakly reject, (3) weakly accept or (4) strongly accept. Once they finished going through all the gambles, they would see the outcome of their decisions. \n",
    "\n",
    "There were two conditions, which only differed in the range of gains that a participant would see during the experiment. \n",
    "1. EqualRange Condition: The range of gains and losses would be the same ($5-$20, increments of $1). \n",
    "2. EqualIndifference Condition: The range of gains would be double the amount of the range of the losses (gains are $10-$40, increments of $2; losses are $5-$20, increments of $1)\n",
    "\n",
    "For both conditions, there were 256 trials in total."
   ]
  },
  {
   "cell_type": "code",
   "execution_count": 2,
   "metadata": {},
   "outputs": [
    {
     "data": {
      "text/html": [
       "<div>\n",
       "<style scoped>\n",
       "    .dataframe tbody tr th:only-of-type {\n",
       "        vertical-align: middle;\n",
       "    }\n",
       "\n",
       "    .dataframe tbody tr th {\n",
       "        vertical-align: top;\n",
       "    }\n",
       "\n",
       "    .dataframe thead th {\n",
       "        text-align: right;\n",
       "    }\n",
       "</style>\n",
       "<table border=\"1\" class=\"dataframe\">\n",
       "  <thead>\n",
       "    <tr style=\"text-align: right;\">\n",
       "      <th></th>\n",
       "      <th>sub</th>\n",
       "      <th>run</th>\n",
       "      <th>condition</th>\n",
       "      <th>gain</th>\n",
       "      <th>loss</th>\n",
       "      <th>RT</th>\n",
       "      <th>accept</th>\n",
       "      <th>response_int</th>\n",
       "      <th>participant_response</th>\n",
       "      <th>trial</th>\n",
       "    </tr>\n",
       "  </thead>\n",
       "  <tbody>\n",
       "    <tr>\n",
       "      <th>0</th>\n",
       "      <td>1</td>\n",
       "      <td>1</td>\n",
       "      <td>equalIndifference</td>\n",
       "      <td>14</td>\n",
       "      <td>6</td>\n",
       "      <td>2.388</td>\n",
       "      <td>1</td>\n",
       "      <td>3.0</td>\n",
       "      <td>weakly_accept</td>\n",
       "      <td>1</td>\n",
       "    </tr>\n",
       "    <tr>\n",
       "      <th>1</th>\n",
       "      <td>1</td>\n",
       "      <td>1</td>\n",
       "      <td>equalIndifference</td>\n",
       "      <td>34</td>\n",
       "      <td>14</td>\n",
       "      <td>2.289</td>\n",
       "      <td>1</td>\n",
       "      <td>4.0</td>\n",
       "      <td>strongly_accept</td>\n",
       "      <td>2</td>\n",
       "    </tr>\n",
       "    <tr>\n",
       "      <th>2</th>\n",
       "      <td>1</td>\n",
       "      <td>1</td>\n",
       "      <td>equalIndifference</td>\n",
       "      <td>34</td>\n",
       "      <td>13</td>\n",
       "      <td>1.873</td>\n",
       "      <td>1</td>\n",
       "      <td>4.0</td>\n",
       "      <td>strongly_accept</td>\n",
       "      <td>3</td>\n",
       "    </tr>\n",
       "    <tr>\n",
       "      <th>3</th>\n",
       "      <td>1</td>\n",
       "      <td>1</td>\n",
       "      <td>equalIndifference</td>\n",
       "      <td>10</td>\n",
       "      <td>10</td>\n",
       "      <td>1.457</td>\n",
       "      <td>0</td>\n",
       "      <td>2.0</td>\n",
       "      <td>weakly_reject</td>\n",
       "      <td>4</td>\n",
       "    </tr>\n",
       "    <tr>\n",
       "      <th>4</th>\n",
       "      <td>1</td>\n",
       "      <td>1</td>\n",
       "      <td>equalIndifference</td>\n",
       "      <td>12</td>\n",
       "      <td>19</td>\n",
       "      <td>1.973</td>\n",
       "      <td>0</td>\n",
       "      <td>1.0</td>\n",
       "      <td>strongly_reject</td>\n",
       "      <td>5</td>\n",
       "    </tr>\n",
       "  </tbody>\n",
       "</table>\n",
       "</div>"
      ],
      "text/plain": [
       "   sub  run          condition  gain  loss     RT  accept  response_int  \\\n",
       "0    1    1  equalIndifference    14     6  2.388       1           3.0   \n",
       "1    1    1  equalIndifference    34    14  2.289       1           4.0   \n",
       "2    1    1  equalIndifference    34    13  1.873       1           4.0   \n",
       "3    1    1  equalIndifference    10    10  1.457       0           2.0   \n",
       "4    1    1  equalIndifference    12    19  1.973       0           1.0   \n",
       "\n",
       "  participant_response  trial  \n",
       "0        weakly_accept      1  \n",
       "1      strongly_accept      2  \n",
       "2      strongly_accept      3  \n",
       "3        weakly_reject      4  \n",
       "4      strongly_reject      5  "
      ]
     },
     "execution_count": 2,
     "metadata": {},
     "output_type": "execute_result"
    }
   ],
   "source": [
    "data = load_behavioral_data(min_RT=0)\n",
    "data.head()"
   ]
  },
  {
   "cell_type": "markdown",
   "metadata": {},
   "source": [
    "Lets look at the range of the gambles for both conditions and plot the acceptance rate. The \"accept\" column is 1 if the participant strongly or weakly accepted and 0 otherwise. "
   ]
  },
  {
   "cell_type": "code",
   "execution_count": 4,
   "metadata": {},
   "outputs": [
    {
     "data": {
      "image/png": "[encoded data removed]",
      "text/plain": [
       "<Figure size 1000x500 with 4 Axes>"
      ]
     },
     "metadata": {},
     "output_type": "display_data"
    }
   ],
   "source": [
    "fig, axs = plt.subplots(1, 2, figsize=(10, 5))\n",
    "hmap_data = data.query(\"condition == 'equalRange' and sub == 56\").groupby(['gain', 'loss'])['accept'].mean().unstack()\n",
    "sns.heatmap(hmap_data, cmap='coolwarm', cbar_kws={'label': 'Response Time'}, ax = axs[0])\n",
    "axs[0].set_title(\"Low reward environment\")\n",
    "axs[0].set_xlabel(\"Loss\")\n",
    "axs[0].set_ylabel(\"Gain\")\n",
    "\n",
    "hmap_data = data.query(\"condition == 'equalIndifference' and sub == 73\").groupby(['gain', 'loss'])['RT'].mean().unstack()\n",
    "sns.heatmap(hmap_data, cmap='coolwarm', cbar_kws={'label': 'Response Time'}, ax = axs[1])\n",
    "axs[1].set_title(\"High reward environment\")\n",
    "axs[1].set_xlabel(\"Loss\")\n",
    "axs[1].set_ylabel(\"Gain\")\n",
    "plt.tight_layout()\n",
    "plt.show()"
   ]
  },
  {
   "cell_type": "markdown",
   "metadata": {},
   "source": [
    "### Load the eye tracking data\n",
    "I only included the data for one participant"
   ]
  },
  {
   "cell_type": "code",
   "execution_count": 4,
   "metadata": {},
   "outputs": [],
   "source": [
    "%load_ext rpy2.ipython"
   ]
  },
  {
   "cell_type": "code",
   "execution_count": 5,
   "metadata": {},
   "outputs": [],
   "source": [
    "config = Config()\n",
    "pth_file = config.data_path[config.username]"
   ]
  },
  {
   "cell_type": "code",
   "execution_count": 7,
   "metadata": {},
   "outputs": [],
   "source": [
    "%%R \n",
    "source(\"../../src/riskyneuroarousal/preprocessing/load_data.R\")"
   ]
  },
  {
   "cell_type": "code",
   "execution_count": 8,
   "metadata": {},
   "outputs": [
    {
     "name": "stdout",
     "output_type": "stream",
     "text": [
      "[1] \"Processing sub-003 run-1\"\n",
      "List of 5\n",
      " $ data       :List of 6\n",
      "  ..$ file      : chr \"/Users/gustxsr/Documents/Stanford/PoldrackLab/github/riskyneuroarousal/data/sub-003_run-1.asc\"\n",
      "  ..$ timeseries: tibble [224,614 × 7] (S3: tbl_df/tbl/data.frame)\n",
      "  .. ..$ time_orig: int [1:224614] 627855 627857 627859 627861 627863 627865 627867 627869 627871 627873 ...\n",
      "  .. ..$ eye_x    : num [1:224614] 964 964 963 962 963 ...\n",
      "  .. ..$ eye_y    : num [1:224614] 560 560 560 558 555 ...\n",
      "  .. ..$ eye      : chr [1:224614] \"R\" \"R\" \"R\" \"R\" ...\n",
      "  .. ..$ hz       : num [1:224614] 500 500 500 500 500 500 500 500 500 500 ...\n",
      "  .. ..$ type     : chr [1:224614] \"diameter\" \"diameter\" \"diameter\" \"diameter\" ...\n",
      "  .. ..$ pupil_raw: num [1:224614] 6586 6591 6596 6600 6606 ...\n",
      "  ..$ events    : tibble [130 × 3] (S3: tbl_df/tbl/data.frame)\n",
      "  .. ..$ block: num [1:130] 1 1 1 1 1 1 1 1 1 1 ...\n",
      "  .. ..$ time : num [1:130] 627855 627934 627969 629226 632947 ...\n",
      "  .. ..$ text : chr [1:130] \"!MODE RECORD CR 500 2 1 R\" \"flag_RunStart_TaskMGT_Run001_Trial001_Time0.015763\" \"flag_TrialStart_TaskMGT_Run001_Trial001_Time0.052579\" \"flag_Response_TaskMGT_Run001_Trial001_Time1.3105\" ...\n",
      "  ..$ blinks    : tibble [133 × 5] (S3: tbl_df/tbl/data.frame)\n",
      "  .. ..$ block: num [1:133] 1 1 1 1 1 1 1 1 1 1 ...\n",
      "  .. ..$ stime: num [1:133] 629735 632935 634419 637933 638811 ...\n",
      "  .. ..$ etime: num [1:133] 629837 632963 634525 638055 638841 ...\n",
      "  .. ..$ dur  : num [1:133] 104 30 108 124 32 120 94 38 110 10 ...\n",
      "  .. ..$ eye  : Factor w/ 2 levels \"L\",\"R\": 2 2 2 2 2 2 2 2 2 2 ...\n",
      "  ..$ info      :'data.frame':\t1 obs. of  20 variables:\n",
      "  .. ..$ date        : POSIXct[1:1], format: \"2017-11-15 15:29:58\"\n",
      "  .. ..$ model       : chr \"EyeLink 1000 Plus\"\n",
      "  .. ..$ version     : chr \"5.04\"\n",
      "  .. ..$ sample.rate : num 500\n",
      "  .. ..$ cr          : logi TRUE\n",
      "  .. ..$ left        : logi FALSE\n",
      "  .. ..$ right       : logi TRUE\n",
      "  .. ..$ mono        : logi TRUE\n",
      "  .. ..$ screen.x    : num 1920\n",
      "  .. ..$ screen.y    : num 1080\n",
      "  .. ..$ mount       : chr \"Long-Range Mount / Monocular / Head Stabilized\"\n",
      "  .. ..$ filter.level: num 2\n",
      "  .. ..$ sample.dtype: chr \"GAZE\"\n",
      "  .. ..$ event.dtype : chr \"GAZE\"\n",
      "  .. ..$ pupil.dtype : chr \"DIAMETER\"\n",
      "  .. ..$ velocity    : logi FALSE\n",
      "  .. ..$ resolution  : logi FALSE\n",
      "  .. ..$ htarg       : logi FALSE\n",
      "  .. ..$ input       : logi FALSE\n",
      "  .. ..$ buttons     : logi FALSE\n",
      "  ..$ latest    : chr \"pupil_raw\"\n",
      "  ..- attr(*, \"class\")= chr \"eyeris\"\n",
      " $ subject_id : chr \"sub-003\"\n",
      " $ run_id     : chr \"run-1\"\n",
      " $ subject_num: num 3\n",
      " $ run_num    : num 1\n"
     ]
    }
   ],
   "source": [
    "%%R -i pth_file \n",
    "pth_file <- paste(pth_file, \"/sub-003_run-1.asc\", sep= \"\")\n",
    "valid_subs <- c(\"sub-003\")\n",
    "\n",
    "# Load the data\n",
    "loaded_data <- load_data(pth_file, valid_subs)\n",
    "str(loaded_data)"
   ]
  },
  {
   "cell_type": "code",
   "execution_count": null,
   "metadata": {},
   "outputs": [],
   "source": []
  }
 ],
 "metadata": {
  "kernelspec": {
   "display_name": ".venv",
   "language": "python",
   "name": "python3"
  },
  "language_info": {
   "codemirror_mode": {
    "name": "ipython",
    "version": 3
   },
   "file_extension": ".py",
   "mimetype": "text/x-python",
   "name": "python",
   "nbconvert_exporter": "python",
   "pygments_lexer": "ipython3",
   "version": "3.12.3"
  }
 },
 "nbformat": 4,
 "nbformat_minor": 2
}
