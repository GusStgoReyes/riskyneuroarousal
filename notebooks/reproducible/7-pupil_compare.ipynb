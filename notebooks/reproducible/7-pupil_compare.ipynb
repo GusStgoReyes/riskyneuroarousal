{
 "cells": [
  {
   "cell_type": "code",
   "execution_count": 9,
   "metadata": {},
   "outputs": [],
   "source": [
    "from utils.load_data import load_behavioral_data, load_pupil_results\n",
    "import seaborn as sns\n",
    "import matplotlib.pyplot as plt\n",
    "from utils.compare_parameters import t_test_ind"
   ]
  },
  {
   "cell_type": "code",
   "execution_count": 3,
   "metadata": {},
   "outputs": [],
   "source": [
    "behavioral_data = load_behavioral_data(min_RT = 0.2)\n",
    "pupil_data = load_pupil_results()"
   ]
  },
  {
   "cell_type": "code",
   "execution_count": 4,
   "metadata": {},
   "outputs": [],
   "source": [
    "sub_cond = behavioral_data[[\"sub\", \"condition\"]].drop_duplicates()"
   ]
  },
  {
   "cell_type": "code",
   "execution_count": 5,
   "metadata": {},
   "outputs": [],
   "source": [
    "pupil_data = pupil_data.merge(sub_cond, on = [\"sub\"])"
   ]
  },
  {
   "cell_type": "code",
   "execution_count": 12,
   "metadata": {},
   "outputs": [
    {
     "data": {
      "image/png": "[encoded data removed]",
      "text/plain": [
       "<Figure size 640x480 with 1 Axes>"
      ]
     },
     "metadata": {},
     "output_type": "display_data"
    }
   ],
   "source": [
    "sns.barplot(data = pupil_data, x = \"name\", y = \"estimate\", hue = \"condition\")\n",
    "plt.xlabel(\"Parameter Names\")\n",
    "plt.ylabel(\"Estimate\")\n",
    "plt.show()"
   ]
  },
  {
   "cell_type": "code",
   "execution_count": 10,
   "metadata": {},
   "outputs": [
    {
     "data": {
      "text/html": [
       "<div>\n",
       "<style scoped>\n",
       "    .dataframe tbody tr th:only-of-type {\n",
       "        vertical-align: middle;\n",
       "    }\n",
       "\n",
       "    .dataframe tbody tr th {\n",
       "        vertical-align: top;\n",
       "    }\n",
       "\n",
       "    .dataframe thead th {\n",
       "        text-align: right;\n",
       "    }\n",
       "</style>\n",
       "<table border=\"1\" class=\"dataframe\">\n",
       "  <thead>\n",
       "    <tr style=\"text-align: right;\">\n",
       "      <th></th>\n",
       "      <th>Unnamed: 0</th>\n",
       "      <th>sub</th>\n",
       "      <th>name</th>\n",
       "      <th>estimate</th>\n",
       "      <th>condition</th>\n",
       "    </tr>\n",
       "  </thead>\n",
       "  <tbody>\n",
       "    <tr>\n",
       "      <th>0</th>\n",
       "      <td>0</td>\n",
       "      <td>3</td>\n",
       "      <td>dist_from_indiff</td>\n",
       "      <td>0.954407</td>\n",
       "      <td>equalIndifference</td>\n",
       "    </tr>\n",
       "    <tr>\n",
       "      <th>1</th>\n",
       "      <td>1</td>\n",
       "      <td>3</td>\n",
       "      <td>gain</td>\n",
       "      <td>-0.086289</td>\n",
       "      <td>equalIndifference</td>\n",
       "    </tr>\n",
       "    <tr>\n",
       "      <th>2</th>\n",
       "      <td>2</td>\n",
       "      <td>3</td>\n",
       "      <td>loss</td>\n",
       "      <td>0.051143</td>\n",
       "      <td>equalIndifference</td>\n",
       "    </tr>\n",
       "    <tr>\n",
       "      <th>3</th>\n",
       "      <td>3</td>\n",
       "      <td>4</td>\n",
       "      <td>dist_from_indiff</td>\n",
       "      <td>-0.237050</td>\n",
       "      <td>equalRange</td>\n",
       "    </tr>\n",
       "    <tr>\n",
       "      <th>4</th>\n",
       "      <td>4</td>\n",
       "      <td>4</td>\n",
       "      <td>gain</td>\n",
       "      <td>0.057894</td>\n",
       "      <td>equalRange</td>\n",
       "    </tr>\n",
       "    <tr>\n",
       "      <th>...</th>\n",
       "      <td>...</td>\n",
       "      <td>...</td>\n",
       "      <td>...</td>\n",
       "      <td>...</td>\n",
       "      <td>...</td>\n",
       "    </tr>\n",
       "    <tr>\n",
       "      <th>160</th>\n",
       "      <td>160</td>\n",
       "      <td>123</td>\n",
       "      <td>gain</td>\n",
       "      <td>-0.015753</td>\n",
       "      <td>equalIndifference</td>\n",
       "    </tr>\n",
       "    <tr>\n",
       "      <th>161</th>\n",
       "      <td>161</td>\n",
       "      <td>123</td>\n",
       "      <td>loss</td>\n",
       "      <td>0.013043</td>\n",
       "      <td>equalIndifference</td>\n",
       "    </tr>\n",
       "    <tr>\n",
       "      <th>162</th>\n",
       "      <td>162</td>\n",
       "      <td>124</td>\n",
       "      <td>dist_from_indiff</td>\n",
       "      <td>0.388723</td>\n",
       "      <td>equalRange</td>\n",
       "    </tr>\n",
       "    <tr>\n",
       "      <th>163</th>\n",
       "      <td>163</td>\n",
       "      <td>124</td>\n",
       "      <td>gain</td>\n",
       "      <td>0.212436</td>\n",
       "      <td>equalRange</td>\n",
       "    </tr>\n",
       "    <tr>\n",
       "      <th>164</th>\n",
       "      <td>164</td>\n",
       "      <td>124</td>\n",
       "      <td>loss</td>\n",
       "      <td>-0.056869</td>\n",
       "      <td>equalRange</td>\n",
       "    </tr>\n",
       "  </tbody>\n",
       "</table>\n",
       "<p>165 rows × 5 columns</p>\n",
       "</div>"
      ],
      "text/plain": [
       "     Unnamed: 0  sub              name  estimate          condition\n",
       "0             0    3  dist_from_indiff  0.954407  equalIndifference\n",
       "1             1    3              gain -0.086289  equalIndifference\n",
       "2             2    3              loss  0.051143  equalIndifference\n",
       "3             3    4  dist_from_indiff -0.237050         equalRange\n",
       "4             4    4              gain  0.057894         equalRange\n",
       "..          ...  ...               ...       ...                ...\n",
       "160         160  123              gain -0.015753  equalIndifference\n",
       "161         161  123              loss  0.013043  equalIndifference\n",
       "162         162  124  dist_from_indiff  0.388723         equalRange\n",
       "163         163  124              gain  0.212436         equalRange\n",
       "164         164  124              loss -0.056869         equalRange\n",
       "\n",
       "[165 rows x 5 columns]"
      ]
     },
     "execution_count": 10,
     "metadata": {},
     "output_type": "execute_result"
    }
   ],
   "source": [
    "pupil_data"
   ]
  },
  {
   "cell_type": "code",
   "execution_count": 11,
   "metadata": {},
   "outputs": [
    {
     "name": "stdout",
     "output_type": "stream",
     "text": [
      "No significant difference for dist_from_indiff\n",
      "t_stats:  -0.7391636926187509 p_values:  0.8489594988583284\n",
      "\n",
      "Significant difference for gain\n",
      "t_stats:  3.897548652570205 p_values:  0.001511846221093057\n",
      "\n",
      "No significant difference for loss\n",
      "t_stats:  -2.0850974331344756 p_values:  0.1152054034164661\n",
      "\n"
     ]
    }
   ],
   "source": [
    "t_test_ind(pupil_data,\n",
    "           param_name = \"name\", \n",
    "            param_value = \"estimate\", \n",
    "            condition_name = \"condition\",\n",
    "            conditions = [\"equalRange\", \"equalIndifference\"] )"
   ]
  },
  {
   "cell_type": "code",
   "execution_count": null,
   "metadata": {},
   "outputs": [],
   "source": []
  }
 ],
 "metadata": {
  "kernelspec": {
   "display_name": ".venv",
   "language": "python",
   "name": "python3"
  },
  "language_info": {
   "codemirror_mode": {
    "name": "ipython",
    "version": 3
   },
   "file_extension": ".py",
   "mimetype": "text/x-python",
   "name": "python",
   "nbconvert_exporter": "python",
   "pygments_lexer": "ipython3",
   "version": "3.12.3"
  }
 },
 "nbformat": 4,
 "nbformat_minor": 2
}
