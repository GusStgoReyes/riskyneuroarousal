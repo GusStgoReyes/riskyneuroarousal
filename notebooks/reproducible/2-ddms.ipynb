{
 "cells": [
  {
   "cell_type": "code",
   "execution_count": 23,
   "metadata": {},
   "outputs": [],
   "source": [
    "import pandas as pd\n",
    "import numpy as np\n",
    "import seaborn as sns\n",
    "import matplotlib.pyplot as plt\n",
    "import pickle as pkl\n",
    "import scipy.stats as stats"
   ]
  },
  {
   "cell_type": "markdown",
   "metadata": {},
   "source": [
    "##### Load the data\n",
    "The parameters are stored in the data folder. We load the best model's parameter for each subject. This model is an HDDM with 7 parameters. \n",
    "1. z: Starting point\n",
    "2. t: Non-decision time\n",
    "3. a: Boundary separation\n",
    "4. v_intercept: Fixed utility bias\n",
    "5. v_gain: Utility weight for gain\n",
    "6. v_loss: Utility weight for loss\n",
    "7. theta: linear rate of boundary shrinkage"
   ]
  },
  {
   "cell_type": "code",
   "execution_count": 21,
   "metadata": {},
   "outputs": [],
   "source": [
    "all_params_fit = pd.read_csv(\"../../data/ddm_fits.csv\")[[\"param_name\", \"mean\", \"sub\", \"condition\"]]\n",
    "# We will include lambda as a parameter, which is the ratio of the drift rate towards gain to the drift rate towards loss\n",
    "lmbda = {}\n",
    "lmbda[\"param_name\"] = \"lambda\"\n",
    "lmbda[\"mean\"] = np.abs(all_params_fit.query(\"param_name == 'v_loss'\")[\"mean\"].values / all_params_fit.query(\"param_name == 'v_gain'\")[\"mean\"].values)\n",
    "lmbda[\"sub\"] = all_params_fit.query(\"param_name == 'v_loss'\")[\"sub\"].values\n",
    "lmbda[\"condition\"] = all_params_fit.query(\"param_name == 'v_loss'\")[\"condition\"].values\n",
    "lmbda = pd.DataFrame(lmbda)\n",
    "all_params_fit = pd.concat([all_params_fit, lmbda])"
   ]
  },
  {
   "cell_type": "markdown",
   "metadata": {},
   "source": [
    "### Difference of parameters between conditions\n",
    "\n",
    "Independent t-tests are used to determine if the parameters are statistically different between conditions."
   ]
  },
  {
   "cell_type": "code",
   "execution_count": 24,
   "metadata": {},
   "outputs": [
    {
     "name": "stdout",
     "output_type": "stream",
     "text": [
      "a\n",
      "TtestResult(statistic=np.float64(-1.968543142075848), pvalue=np.float64(0.05434677456947008), df=np.float64(52.0))\n",
      "z\n",
      "TtestResult(statistic=np.float64(-1.3367628802222287), pvalue=np.float64(0.18711936369284943), df=np.float64(52.0))\n",
      "t\n",
      "TtestResult(statistic=np.float64(0.05427943879583733), pvalue=np.float64(0.9569205377446834), df=np.float64(52.0))\n",
      "theta\n",
      "TtestResult(statistic=np.float64(-0.11547498375661319), pvalue=np.float64(0.9085134248824187), df=np.float64(52.0))\n",
      "v_Intercept\n",
      "TtestResult(statistic=np.float64(-0.7672288348771935), pvalue=np.float64(0.44641515151259126), df=np.float64(52.0))\n",
      "v_gain\n",
      "TtestResult(statistic=np.float64(10.461154028971155), pvalue=np.float64(2.141023769507238e-14), df=np.float64(52.0))\n",
      "v_loss\n",
      "TtestResult(statistic=np.float64(-2.8544189712255763), pvalue=np.float64(0.00617827921855072), df=np.float64(52.0))\n",
      "lambda\n",
      "TtestResult(statistic=np.float64(-4.372535224001907), pvalue=np.float64(5.913687896279127e-05), df=np.float64(52.0))\n"
     ]
    }
   ],
   "source": [
    "for param in all_params_fit[\"param_name\"].unique():\n",
    "    print(param)\n",
    "    print(stats.ttest_ind(all_params_fit.query(f\"param_name == '{param}' & condition == 'equalRange'\")[\"mean\"], all_params_fit.query(f\"param_name == '{param}' & condition == 'equalIndifference'\")[\"mean\"]))"
   ]
  },
  {
   "cell_type": "markdown",
   "metadata": {},
   "source": [
    "**Findings:**\n",
    "- Not statistically different:\n",
    "    - Boundary separation (a)\n",
    "    - Non-decision time (t)\n",
    "    - Starting point (z)\n",
    "    - v_intercept\n",
    "- Statistically different:\n",
    "    - v_gain (equalRange > equalIndifference)\n",
    "    - v_loss (equalRange > equalIndifference in absolute value)\n",
    "    - lambda (equalIndifference > equalRange)\n",
    "\n",
    "As subjects sample gambles in high reward condition, they require more time (or information) to decide on rejecting a potential loss as compared to the gain as compared to the low reward condition. This suggests that, in this experiment, the response bias does not drive the effect of the behavior. Instead, the effect of the behavior is driven by how the subjects accumulate information about the prospects of the gambles. \n",
    "\n",
    "Hence, in our experiment, the utility weight on the gain/loss adapts to the condition. \n",
    "\n",
    "#### Plotting the parameters"
   ]
  },
  {
   "cell_type": "code",
   "execution_count": 25,
   "metadata": {},
   "outputs": [
    {
     "data": {
      "image/png": "[encoded data removed]",
      "text/plain": [
       "<Figure size 640x480 with 1 Axes>"
      ]
     },
     "metadata": {},
     "output_type": "display_data"
    }
   ],
   "source": [
    "sns.barplot(data=all_params_fit, x=\"param_name\", y=\"mean\", hue=\"condition\")\n",
    "# x-axis is Parameters, y-axis is Mean, hue is condition\n",
    "plt.xlabel(\"Parameters\")\n",
    "plt.ylabel(\"Mean\")\n",
    "plt.title(\"Parameters by Condition\")\n",
    "plt.show()"
   ]
  },
  {
   "cell_type": "markdown",
   "metadata": {},
   "source": [
    "#### Load the behavioral data\n",
    "Extract the probability of accepting the gamble for each subject and correlate with the parameters. "
   ]
  },
  {
   "cell_type": "code",
   "execution_count": 36,
   "metadata": {},
   "outputs": [],
   "source": [
    "behav_data = pd.read_csv('../../data/behavioral_data.csv')\n",
    "accept_rate = behav_data.groupby([\"sub\", \"condition\"])[\"accept\"].mean().reset_index()\n",
    "accept_rate = accept_rate.merge(all_params_fit, on=[\"sub\", \"condition\"])"
   ]
  },
  {
   "cell_type": "code",
   "execution_count": 38,
   "metadata": {},
   "outputs": [
    {
     "name": "stdout",
     "output_type": "stream",
     "text": [
      "a\n",
      "PearsonRResult(statistic=np.float64(0.2778069275411256), pvalue=np.float64(0.041960061939488986))\n",
      "z\n",
      "PearsonRResult(statistic=np.float64(0.6712845507850874), pvalue=np.float64(2.768561461015642e-08))\n",
      "t\n",
      "PearsonRResult(statistic=np.float64(-0.13476357588925858), pvalue=np.float64(0.33126182894765654))\n",
      "theta\n",
      "PearsonRResult(statistic=np.float64(0.06933231478865057), pvalue=np.float64(0.6183676365749324))\n",
      "v_Intercept\n",
      "PearsonRResult(statistic=np.float64(0.20071479567987188), pvalue=np.float64(0.1455888053369973))\n",
      "v_gain\n",
      "PearsonRResult(statistic=np.float64(-0.37118291317764207), pvalue=np.float64(0.005722451133168512))\n",
      "v_loss\n",
      "PearsonRResult(statistic=np.float64(0.5120635954657077), pvalue=np.float64(7.559164687213907e-05))\n",
      "lambda\n",
      "PearsonRResult(statistic=np.float64(0.025780700470435992), pvalue=np.float64(0.8531925690229633))\n"
     ]
    }
   ],
   "source": [
    "for param in all_params_fit[\"param_name\"].unique():\n",
    "    print(param)\n",
    "    print(stats.pearsonr(accept_rate.query(f\"param_name == '{param}'\")[\"accept\"], accept_rate.query(f\"param_name == '{param}'\")[\"mean\"]))"
   ]
  },
  {
   "cell_type": "markdown",
   "metadata": {},
   "source": [
    "**Findings:**\n",
    "- z (Starting point) is strongly and positively correlated with the probability of accepting the gamble. \n",
    "- v_gain (Utility weight for gain) is weakly and negatively correlated with the probability of accepting the gamble. \n",
    "- v_loss (Utility weight for loss) is strongly and positively correlated with the probability of accepting the gamble. \n",
    "\n",
    "Implications:\n",
    "- A high or low starting point (bias towards accepting/rejecting a gamble) makes it more likely to do the biased behavior because there is less information to be accumulated towards the decision. \n",
    "- A high utility weight for loss makes it more likely to reject a gamble, which implies that the person with higher absolute v_loss should reject more gambles.\n",
    "\n",
    "#### Correlation between all parameters\n",
    "We only observe the significant correlations (pvalue < 0.001). "
   ]
  },
  {
   "cell_type": "code",
   "execution_count": 44,
   "metadata": {},
   "outputs": [],
   "source": [
    "# correlation between all parameters\n",
    "params = all_params_fit[\"param_name\"].unique()\n",
    "corr_matrix = pd.DataFrame(index=params, columns=params)\n",
    "p_values = pd.DataFrame(index=params, columns=params)\n",
    "for param1 in params:\n",
    "    for param2 in params:\n",
    "        corr, p = stats.pearsonr(\n",
    "            accept_rate.query(f\"param_name == '{param1}'\")[\"mean\"], \n",
    "            accept_rate.query(f\"param_name == '{param2}'\")[\"mean\"]\n",
    "        )\n",
    "        corr_matrix.loc[param1, param2] = corr\n",
    "        p_values.loc[param1, param2] = p"
   ]
  },
  {
   "cell_type": "code",
   "execution_count": 48,
   "metadata": {},
   "outputs": [
    {
     "data": {
      "text/html": [
       "<div>\n",
       "<style scoped>\n",
       "    .dataframe tbody tr th:only-of-type {\n",
       "        vertical-align: middle;\n",
       "    }\n",
       "\n",
       "    .dataframe tbody tr th {\n",
       "        vertical-align: top;\n",
       "    }\n",
       "\n",
       "    .dataframe thead th {\n",
       "        text-align: right;\n",
       "    }\n",
       "</style>\n",
       "<table border=\"1\" class=\"dataframe\">\n",
       "  <thead>\n",
       "    <tr style=\"text-align: right;\">\n",
       "      <th></th>\n",
       "      <th>a</th>\n",
       "      <th>z</th>\n",
       "      <th>t</th>\n",
       "      <th>theta</th>\n",
       "      <th>v_Intercept</th>\n",
       "      <th>v_gain</th>\n",
       "      <th>v_loss</th>\n",
       "      <th>lambda</th>\n",
       "    </tr>\n",
       "  </thead>\n",
       "  <tbody>\n",
       "    <tr>\n",
       "      <th>a</th>\n",
       "      <td>1.0</td>\n",
       "      <td>NaN</td>\n",
       "      <td>NaN</td>\n",
       "      <td>0.591743</td>\n",
       "      <td>NaN</td>\n",
       "      <td>NaN</td>\n",
       "      <td>NaN</td>\n",
       "      <td>NaN</td>\n",
       "    </tr>\n",
       "    <tr>\n",
       "      <th>z</th>\n",
       "      <td>NaN</td>\n",
       "      <td>1.0</td>\n",
       "      <td>NaN</td>\n",
       "      <td>NaN</td>\n",
       "      <td>NaN</td>\n",
       "      <td>NaN</td>\n",
       "      <td>NaN</td>\n",
       "      <td>NaN</td>\n",
       "    </tr>\n",
       "    <tr>\n",
       "      <th>t</th>\n",
       "      <td>NaN</td>\n",
       "      <td>NaN</td>\n",
       "      <td>1.0</td>\n",
       "      <td>NaN</td>\n",
       "      <td>NaN</td>\n",
       "      <td>NaN</td>\n",
       "      <td>NaN</td>\n",
       "      <td>NaN</td>\n",
       "    </tr>\n",
       "    <tr>\n",
       "      <th>theta</th>\n",
       "      <td>0.591743</td>\n",
       "      <td>NaN</td>\n",
       "      <td>NaN</td>\n",
       "      <td>1.0</td>\n",
       "      <td>NaN</td>\n",
       "      <td>NaN</td>\n",
       "      <td>NaN</td>\n",
       "      <td>NaN</td>\n",
       "    </tr>\n",
       "    <tr>\n",
       "      <th>v_Intercept</th>\n",
       "      <td>NaN</td>\n",
       "      <td>NaN</td>\n",
       "      <td>NaN</td>\n",
       "      <td>NaN</td>\n",
       "      <td>1.0</td>\n",
       "      <td>-0.444929</td>\n",
       "      <td>NaN</td>\n",
       "      <td>0.700338</td>\n",
       "    </tr>\n",
       "    <tr>\n",
       "      <th>v_gain</th>\n",
       "      <td>NaN</td>\n",
       "      <td>NaN</td>\n",
       "      <td>NaN</td>\n",
       "      <td>NaN</td>\n",
       "      <td>-0.444929</td>\n",
       "      <td>1.0</td>\n",
       "      <td>NaN</td>\n",
       "      <td>-0.732584</td>\n",
       "    </tr>\n",
       "    <tr>\n",
       "      <th>v_loss</th>\n",
       "      <td>NaN</td>\n",
       "      <td>NaN</td>\n",
       "      <td>NaN</td>\n",
       "      <td>NaN</td>\n",
       "      <td>NaN</td>\n",
       "      <td>NaN</td>\n",
       "      <td>1.0</td>\n",
       "      <td>NaN</td>\n",
       "    </tr>\n",
       "    <tr>\n",
       "      <th>lambda</th>\n",
       "      <td>NaN</td>\n",
       "      <td>NaN</td>\n",
       "      <td>NaN</td>\n",
       "      <td>NaN</td>\n",
       "      <td>0.700338</td>\n",
       "      <td>-0.732584</td>\n",
       "      <td>NaN</td>\n",
       "      <td>1.0</td>\n",
       "    </tr>\n",
       "  </tbody>\n",
       "</table>\n",
       "</div>"
      ],
      "text/plain": [
       "                    a    z    t     theta v_Intercept    v_gain v_loss  \\\n",
       "a                 1.0  NaN  NaN  0.591743         NaN       NaN    NaN   \n",
       "z                 NaN  1.0  NaN       NaN         NaN       NaN    NaN   \n",
       "t                 NaN  NaN  1.0       NaN         NaN       NaN    NaN   \n",
       "theta        0.591743  NaN  NaN       1.0         NaN       NaN    NaN   \n",
       "v_Intercept       NaN  NaN  NaN       NaN         1.0 -0.444929    NaN   \n",
       "v_gain            NaN  NaN  NaN       NaN   -0.444929       1.0    NaN   \n",
       "v_loss            NaN  NaN  NaN       NaN         NaN       NaN    1.0   \n",
       "lambda            NaN  NaN  NaN       NaN    0.700338 -0.732584    NaN   \n",
       "\n",
       "               lambda  \n",
       "a                 NaN  \n",
       "z                 NaN  \n",
       "t                 NaN  \n",
       "theta             NaN  \n",
       "v_Intercept  0.700338  \n",
       "v_gain      -0.732584  \n",
       "v_loss            NaN  \n",
       "lambda            1.0  "
      ]
     },
     "execution_count": 48,
     "metadata": {},
     "output_type": "execute_result"
    }
   ],
   "source": [
    "corr_matrix[p_values < 0.001]"
   ]
  },
  {
   "cell_type": "markdown",
   "metadata": {},
   "source": [
    "**Findings:**\n",
    "- Boundary separation (a) is positively correlated with the boundary shrinkage (theta). \n",
    "    - The larger the boundary separation, the more shrinkage occurs. \n",
    "- The fixed utility is correlated with v_gain.\n",
    "    - The fixed utility bias usually is information towards rejection. Hence, v_gain is larger as then fixed utility bias is larger in absolute value (to accept the desired gambles). \n"
   ]
  },
  {
   "cell_type": "code",
   "execution_count": null,
   "metadata": {},
   "outputs": [],
   "source": []
  }
 ],
 "metadata": {
  "kernelspec": {
   "display_name": ".venv",
   "language": "python",
   "name": "python3"
  },
  "language_info": {
   "codemirror_mode": {
    "name": "ipython",
    "version": 3
   },
   "file_extension": ".py",
   "mimetype": "text/x-python",
   "name": "python",
   "nbconvert_exporter": "python",
   "pygments_lexer": "ipython3",
   "version": "3.12.3"
  }
 },
 "nbformat": 4,
 "nbformat_minor": 2
}
