{
 "cells": [
  {
   "cell_type": "code",
   "execution_count": 2,
   "metadata": {},
   "outputs": [],
   "source": [
    "import pandas as pd\n",
    "import os\n",
    "import seaborn as sns"
   ]
  },
  {
   "cell_type": "code",
   "execution_count": 28,
   "metadata": {},
   "outputs": [],
   "source": [
    "files = [\"EV_binary_equalIndifference_simulations_0.csv\", \n",
    "         \"EV_binary_equalIndifference_simulations_1.csv\", \n",
    "         \"EV_binary_equalIndifference_simulations_2.csv\", \n",
    "         \"EV_binary_equalIndifference_simulations_3.csv\",\n",
    "         \"EV_ordinal_equalIndifference_simulations_0.csv\",\n",
    "         \"EV_ordinal_equalIndifference_simulations_1.csv\",\n",
    "         \"EV_ordinal_equalIndifference_simulations_2.csv\",\n",
    "         \"EV_ordinal_equalIndifference_simulations_3.csv\",]"
   ]
  },
  {
   "cell_type": "code",
   "execution_count": 29,
   "metadata": {},
   "outputs": [],
   "source": [
    "x = []\n",
    "for file in files:\n",
    "    x.append(pd.read_csv(file))\n",
    "\n",
    "df = pd.concat(x, ignore_index=True)"
   ]
  },
  {
   "cell_type": "code",
   "execution_count": 30,
   "metadata": {},
   "outputs": [
    {
     "data": {
      "text/html": [
       "<div>\n",
       "<style scoped>\n",
       "    .dataframe tbody tr th:only-of-type {\n",
       "        vertical-align: middle;\n",
       "    }\n",
       "\n",
       "    .dataframe tbody tr th {\n",
       "        vertical-align: top;\n",
       "    }\n",
       "\n",
       "    .dataframe thead th {\n",
       "        text-align: right;\n",
       "    }\n",
       "</style>\n",
       "<table border=\"1\" class=\"dataframe\">\n",
       "  <thead>\n",
       "    <tr style=\"text-align: right;\">\n",
       "      <th></th>\n",
       "      <th>param_names</th>\n",
       "      <th>estimates</th>\n",
       "      <th>real</th>\n",
       "      <th>indx</th>\n",
       "      <th>model</th>\n",
       "      <th>condition</th>\n",
       "    </tr>\n",
       "  </thead>\n",
       "  <tbody>\n",
       "    <tr>\n",
       "      <th>0</th>\n",
       "      <td>c</td>\n",
       "      <td>0.893551</td>\n",
       "      <td>1.0</td>\n",
       "      <td>1927.0</td>\n",
       "      <td>EV_binary</td>\n",
       "      <td>equalIndifference</td>\n",
       "    </tr>\n",
       "    <tr>\n",
       "      <th>1</th>\n",
       "      <td>sigma</td>\n",
       "      <td>0.502093</td>\n",
       "      <td>0.5</td>\n",
       "      <td>1927.0</td>\n",
       "      <td>EV_binary</td>\n",
       "      <td>equalIndifference</td>\n",
       "    </tr>\n",
       "    <tr>\n",
       "      <th>2</th>\n",
       "      <td>delta</td>\n",
       "      <td>0.000000</td>\n",
       "      <td>0.0</td>\n",
       "      <td>1927.0</td>\n",
       "      <td>EV_binary</td>\n",
       "      <td>equalIndifference</td>\n",
       "    </tr>\n",
       "    <tr>\n",
       "      <th>3</th>\n",
       "      <td>loss</td>\n",
       "      <td>12.168951</td>\n",
       "      <td>NaN</td>\n",
       "      <td>1927.0</td>\n",
       "      <td>EV_binary</td>\n",
       "      <td>equalIndifference</td>\n",
       "    </tr>\n",
       "    <tr>\n",
       "      <th>4</th>\n",
       "      <td>c</td>\n",
       "      <td>1.651953</td>\n",
       "      <td>1.0</td>\n",
       "      <td>1959.0</td>\n",
       "      <td>EV_binary</td>\n",
       "      <td>equalIndifference</td>\n",
       "    </tr>\n",
       "    <tr>\n",
       "      <th>...</th>\n",
       "      <td>...</td>\n",
       "      <td>...</td>\n",
       "      <td>...</td>\n",
       "      <td>...</td>\n",
       "      <td>...</td>\n",
       "      <td>...</td>\n",
       "    </tr>\n",
       "    <tr>\n",
       "      <th>275</th>\n",
       "      <td>a_2</td>\n",
       "      <td>-6.138234</td>\n",
       "      <td>-6.0</td>\n",
       "      <td>1999.0</td>\n",
       "      <td>EV_ordinal</td>\n",
       "      <td>equalIndifference</td>\n",
       "    </tr>\n",
       "    <tr>\n",
       "      <th>276</th>\n",
       "      <td>c</td>\n",
       "      <td>1.440310</td>\n",
       "      <td>2.0</td>\n",
       "      <td>1999.0</td>\n",
       "      <td>EV_ordinal</td>\n",
       "      <td>equalIndifference</td>\n",
       "    </tr>\n",
       "    <tr>\n",
       "      <th>277</th>\n",
       "      <td>sigma</td>\n",
       "      <td>5.164961</td>\n",
       "      <td>4.5</td>\n",
       "      <td>1999.0</td>\n",
       "      <td>EV_ordinal</td>\n",
       "      <td>equalIndifference</td>\n",
       "    </tr>\n",
       "    <tr>\n",
       "      <th>278</th>\n",
       "      <td>delta</td>\n",
       "      <td>0.000000</td>\n",
       "      <td>0.0</td>\n",
       "      <td>1999.0</td>\n",
       "      <td>EV_ordinal</td>\n",
       "      <td>equalIndifference</td>\n",
       "    </tr>\n",
       "    <tr>\n",
       "      <th>279</th>\n",
       "      <td>loss</td>\n",
       "      <td>243.538430</td>\n",
       "      <td>NaN</td>\n",
       "      <td>1999.0</td>\n",
       "      <td>EV_ordinal</td>\n",
       "      <td>equalIndifference</td>\n",
       "    </tr>\n",
       "  </tbody>\n",
       "</table>\n",
       "<p>280 rows × 6 columns</p>\n",
       "</div>"
      ],
      "text/plain": [
       "    param_names   estimates  real    indx       model          condition\n",
       "0             c    0.893551   1.0  1927.0   EV_binary  equalIndifference\n",
       "1         sigma    0.502093   0.5  1927.0   EV_binary  equalIndifference\n",
       "2         delta    0.000000   0.0  1927.0   EV_binary  equalIndifference\n",
       "3          loss   12.168951   NaN  1927.0   EV_binary  equalIndifference\n",
       "4             c    1.651953   1.0  1959.0   EV_binary  equalIndifference\n",
       "..          ...         ...   ...     ...         ...                ...\n",
       "275         a_2   -6.138234  -6.0  1999.0  EV_ordinal  equalIndifference\n",
       "276           c    1.440310   2.0  1999.0  EV_ordinal  equalIndifference\n",
       "277       sigma    5.164961   4.5  1999.0  EV_ordinal  equalIndifference\n",
       "278       delta    0.000000   0.0  1999.0  EV_ordinal  equalIndifference\n",
       "279        loss  243.538430   NaN  1999.0  EV_ordinal  equalIndifference\n",
       "\n",
       "[280 rows x 6 columns]"
      ]
     },
     "execution_count": 30,
     "metadata": {},
     "output_type": "execute_result"
    }
   ],
   "source": [
    "df"
   ]
  },
  {
   "cell_type": "code",
   "execution_count": 35,
   "metadata": {},
   "outputs": [],
   "source": [
    "# Pivot the estimates\n",
    "est_df = df.query(\"model == 'EV_ordinal'\").pivot(index='indx', columns='param_names', values='estimates')\n",
    "est_df.columns = [f\"{col}_estimates\" for col in est_df.columns]\n",
    "\n",
    "# Pivot the real values\n",
    "real_df = df.query(\"model == 'EV_ordinal'\").pivot(index='indx', columns='param_names', values='real')\n",
    "real_df.columns = [f\"{col}_real\" for col in real_df.columns]\n",
    "\n",
    "# Get the condition (assuming it's constant per indx)\n",
    "cond_df = df.query(\"model == 'EV_ordinal'\")[['indx', 'condition']].drop_duplicates().set_index('indx')\n",
    "\n",
    "# Combine all into one wide dataframe\n",
    "final_df2 = pd.concat([est_df, real_df, cond_df], axis=1).reset_index()"
   ]
  },
  {
   "cell_type": "code",
   "execution_count": 40,
   "metadata": {},
   "outputs": [
    {
     "data": {
      "text/plain": [
       "<Axes: xlabel='sigma_real', ylabel='sigma_estimates'>"
      ]
     },
     "execution_count": 40,
     "metadata": {},
     "output_type": "execute_result"
    },
    {
     "data": {
      "image/png": "[encoded data removed]",
      "text/plain": [
       "<Figure size 640x480 with 1 Axes>"
      ]
     },
     "metadata": {},
     "output_type": "display_data"
    }
   ],
   "source": [
    "sns.barplot(final_df, x = \"sigma_real\", y = \"sigma_estimates\")"
   ]
  },
  {
   "cell_type": "code",
   "execution_count": 42,
   "metadata": {},
   "outputs": [
    {
     "data": {
      "text/plain": [
       "<Axes: xlabel='a_2_real', ylabel='a_2_estimates'>"
      ]
     },
     "execution_count": 42,
     "metadata": {},
     "output_type": "execute_result"
    },
    {
     "data": {
      "image/png": "[encoded data removed]",
      "text/plain": [
       "<Figure size 640x480 with 1 Axes>"
      ]
     },
     "metadata": {},
     "output_type": "display_data"
    }
   ],
   "source": [
    "sns.barplot(final_df2, x = \"a_2_real\", y = \"a_2_estimates\")"
   ]
  },
  {
   "cell_type": "code",
   "execution_count": 6,
   "metadata": {},
   "outputs": [
    {
     "data": {
      "text/plain": [
       "<Axes: xlabel='real', ylabel='estimates'>"
      ]
     },
     "execution_count": 6,
     "metadata": {},
     "output_type": "execute_result"
    },
    {
     "data": {
      "image/png": "[encoded data removed]",
      "text/plain": [
       "<Figure size 640x480 with 1 Axes>"
      ]
     },
     "metadata": {},
     "output_type": "display_data"
    }
   ],
   "source": [
    "sns.scatterplot(data=df, x = \"real\", y = \"estimates\", hue = \"param_names\")"
   ]
  },
  {
   "cell_type": "code",
   "execution_count": null,
   "metadata": {},
   "outputs": [],
   "source": []
  }
 ],
 "metadata": {
  "kernelspec": {
   "display_name": ".venv",
   "language": "python",
   "name": "python3"
  },
  "language_info": {
   "codemirror_mode": {
    "name": "ipython",
    "version": 3
   },
   "file_extension": ".py",
   "mimetype": "text/x-python",
   "name": "python",
   "nbconvert_exporter": "python",
   "pygments_lexer": "ipython3",
   "version": "3.12.3"
  }
 },
 "nbformat": 4,
 "nbformat_minor": 2
}
